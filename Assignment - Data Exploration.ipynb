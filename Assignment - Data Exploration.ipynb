{
 "cells": [
  {
   "cell_type": "markdown",
   "metadata": {},
   "source": [
    "# Python Libraries"
   ]
  },
  {
   "cell_type": "code",
   "execution_count": 56,
   "metadata": {},
   "outputs": [],
   "source": [
    "#importing necessary library\n",
    "import pandas as pd\n",
    "import numpy as np\n",
    "import seaborn as sns\n",
    "import matplotlib.pyplot as plt"
   ]
  },
  {
   "cell_type": "markdown",
   "metadata": {},
   "source": [
    "# Data Read In"
   ]
  },
  {
   "cell_type": "code",
   "execution_count": 57,
   "metadata": {},
   "outputs": [
    {
     "data": {
      "text/html": [
       "<div>\n",
       "<style scoped>\n",
       "    .dataframe tbody tr th:only-of-type {\n",
       "        vertical-align: middle;\n",
       "    }\n",
       "\n",
       "    .dataframe tbody tr th {\n",
       "        vertical-align: top;\n",
       "    }\n",
       "\n",
       "    .dataframe thead th {\n",
       "        text-align: right;\n",
       "    }\n",
       "</style>\n",
       "<table border=\"1\" class=\"dataframe\">\n",
       "  <thead>\n",
       "    <tr style=\"text-align: right;\">\n",
       "      <th></th>\n",
       "      <th>User_ID</th>\n",
       "      <th>Age</th>\n",
       "      <th>Gender</th>\n",
       "      <th>Location</th>\n",
       "      <th>Subscription_Start_Date</th>\n",
       "      <th>Subscription_Type</th>\n",
       "      <th>Monthly_Payment</th>\n",
       "      <th>Payment_Method</th>\n",
       "      <th>Monthly_Hours_Watched</th>\n",
       "      <th>Favorite_Genre</th>\n",
       "      <th>Devices_Used</th>\n",
       "      <th>Average_Session_Length</th>\n",
       "      <th>Content_ID</th>\n",
       "      <th>Rating_Given</th>\n",
       "      <th>Churned</th>\n",
       "      <th>Date_of_Churn</th>\n",
       "      <th>Reason_for_Churn</th>\n",
       "    </tr>\n",
       "  </thead>\n",
       "  <tbody>\n",
       "    <tr>\n",
       "      <th>0</th>\n",
       "      <td>1</td>\n",
       "      <td>56</td>\n",
       "      <td>Other</td>\n",
       "      <td>Central</td>\n",
       "      <td>2020-06-07 01:53:37.656934</td>\n",
       "      <td>Premium</td>\n",
       "      <td>19.99</td>\n",
       "      <td>Credit Card</td>\n",
       "      <td>31.513153</td>\n",
       "      <td>Action</td>\n",
       "      <td>PC</td>\n",
       "      <td>1.195762</td>\n",
       "      <td>1023</td>\n",
       "      <td>5</td>\n",
       "      <td>0</td>\n",
       "      <td>NaN</td>\n",
       "      <td>NaN</td>\n",
       "    </tr>\n",
       "    <tr>\n",
       "      <th>1</th>\n",
       "      <td>2</td>\n",
       "      <td>69</td>\n",
       "      <td>Other</td>\n",
       "      <td>West</td>\n",
       "      <td>2024-02-21 01:53:37.656980</td>\n",
       "      <td>Standard</td>\n",
       "      <td>14.99</td>\n",
       "      <td>Credit Card</td>\n",
       "      <td>4.982277</td>\n",
       "      <td>Drama</td>\n",
       "      <td>PC</td>\n",
       "      <td>0.809002</td>\n",
       "      <td>1076</td>\n",
       "      <td>1</td>\n",
       "      <td>0</td>\n",
       "      <td>NaN</td>\n",
       "      <td>NaN</td>\n",
       "    </tr>\n",
       "    <tr>\n",
       "      <th>2</th>\n",
       "      <td>3</td>\n",
       "      <td>46</td>\n",
       "      <td>Female</td>\n",
       "      <td>North</td>\n",
       "      <td>2022-10-06 01:53:37.656995</td>\n",
       "      <td>Standard</td>\n",
       "      <td>14.99</td>\n",
       "      <td>PayPal</td>\n",
       "      <td>4.114953</td>\n",
       "      <td>Sci-Fi</td>\n",
       "      <td>Tablet</td>\n",
       "      <td>1.153570</td>\n",
       "      <td>1095</td>\n",
       "      <td>2</td>\n",
       "      <td>0</td>\n",
       "      <td>NaN</td>\n",
       "      <td>NaN</td>\n",
       "    </tr>\n",
       "    <tr>\n",
       "      <th>3</th>\n",
       "      <td>4</td>\n",
       "      <td>32</td>\n",
       "      <td>Female</td>\n",
       "      <td>East</td>\n",
       "      <td>2022-01-04 01:53:37.657006</td>\n",
       "      <td>Standard</td>\n",
       "      <td>14.99</td>\n",
       "      <td>Credit Card</td>\n",
       "      <td>60.244820</td>\n",
       "      <td>Action</td>\n",
       "      <td>TV</td>\n",
       "      <td>0.609503</td>\n",
       "      <td>1003</td>\n",
       "      <td>1</td>\n",
       "      <td>0</td>\n",
       "      <td>NaN</td>\n",
       "      <td>NaN</td>\n",
       "    </tr>\n",
       "    <tr>\n",
       "      <th>4</th>\n",
       "      <td>5</td>\n",
       "      <td>60</td>\n",
       "      <td>Female</td>\n",
       "      <td>North</td>\n",
       "      <td>2020-03-13 01:53:37.657017</td>\n",
       "      <td>Standard</td>\n",
       "      <td>14.99</td>\n",
       "      <td>Credit Card</td>\n",
       "      <td>4.711855</td>\n",
       "      <td>Sci-Fi</td>\n",
       "      <td>Mobile</td>\n",
       "      <td>0.359971</td>\n",
       "      <td>1012</td>\n",
       "      <td>4</td>\n",
       "      <td>0</td>\n",
       "      <td>NaN</td>\n",
       "      <td>NaN</td>\n",
       "    </tr>\n",
       "  </tbody>\n",
       "</table>\n",
       "</div>"
      ],
      "text/plain": [
       "   User_ID  Age  Gender Location     Subscription_Start_Date  \\\n",
       "0        1   56   Other  Central  2020-06-07 01:53:37.656934   \n",
       "1        2   69   Other     West  2024-02-21 01:53:37.656980   \n",
       "2        3   46  Female    North  2022-10-06 01:53:37.656995   \n",
       "3        4   32  Female     East  2022-01-04 01:53:37.657006   \n",
       "4        5   60  Female    North  2020-03-13 01:53:37.657017   \n",
       "\n",
       "  Subscription_Type  Monthly_Payment Payment_Method  Monthly_Hours_Watched  \\\n",
       "0           Premium            19.99    Credit Card              31.513153   \n",
       "1          Standard            14.99    Credit Card               4.982277   \n",
       "2          Standard            14.99         PayPal               4.114953   \n",
       "3          Standard            14.99    Credit Card              60.244820   \n",
       "4          Standard            14.99    Credit Card               4.711855   \n",
       "\n",
       "  Favorite_Genre Devices_Used  Average_Session_Length  Content_ID  \\\n",
       "0         Action           PC                1.195762        1023   \n",
       "1          Drama           PC                0.809002        1076   \n",
       "2         Sci-Fi       Tablet                1.153570        1095   \n",
       "3         Action           TV                0.609503        1003   \n",
       "4         Sci-Fi       Mobile                0.359971        1012   \n",
       "\n",
       "   Rating_Given  Churned Date_of_Churn Reason_for_Churn  \n",
       "0             5        0           NaN              NaN  \n",
       "1             1        0           NaN              NaN  \n",
       "2             2        0           NaN              NaN  \n",
       "3             1        0           NaN              NaN  \n",
       "4             4        0           NaN              NaN  "
      ]
     },
     "execution_count": 57,
     "metadata": {},
     "output_type": "execute_result"
    }
   ],
   "source": [
    "#Read-in the dataset\n",
    "df = pd.read_csv('https://raw.githubusercontent.com/delinai/schulich_ds1_2024/main/Datasets/Assignment1_StreamFlow_Subscription_Data.csv')\n",
    "df.head()"
   ]
  },
  {
   "cell_type": "code",
   "execution_count": 58,
   "metadata": {},
   "outputs": [
    {
     "name": "stdout",
     "output_type": "stream",
     "text": [
      "<class 'pandas.core.frame.DataFrame'>\n",
      "RangeIndex: 1000 entries, 0 to 999\n",
      "Data columns (total 17 columns):\n",
      " #   Column                   Non-Null Count  Dtype  \n",
      "---  ------                   --------------  -----  \n",
      " 0   User_ID                  1000 non-null   int64  \n",
      " 1   Age                      1000 non-null   int64  \n",
      " 2   Gender                   1000 non-null   object \n",
      " 3   Location                 1000 non-null   object \n",
      " 4   Subscription_Start_Date  1000 non-null   object \n",
      " 5   Subscription_Type        1000 non-null   object \n",
      " 6   Monthly_Payment          1000 non-null   float64\n",
      " 7   Payment_Method           1000 non-null   object \n",
      " 8   Monthly_Hours_Watched    1000 non-null   float64\n",
      " 9   Favorite_Genre           1000 non-null   object \n",
      " 10  Devices_Used             1000 non-null   object \n",
      " 11  Average_Session_Length   1000 non-null   float64\n",
      " 12  Content_ID               1000 non-null   int64  \n",
      " 13  Rating_Given             1000 non-null   int64  \n",
      " 14  Churned                  1000 non-null   int64  \n",
      " 15  Date_of_Churn            246 non-null    object \n",
      " 16  Reason_for_Churn         246 non-null    object \n",
      "dtypes: float64(3), int64(5), object(9)\n",
      "memory usage: 132.9+ KB\n"
     ]
    }
   ],
   "source": [
    "# Display the summary information of the DataFrame including the data types of each column \n",
    "df.info()"
   ]
  },
  {
   "cell_type": "code",
   "execution_count": 59,
   "metadata": {},
   "outputs": [
    {
     "name": "stdout",
     "output_type": "stream",
     "text": [
      "<class 'pandas.core.frame.DataFrame'>\n",
      "RangeIndex: 1000 entries, 0 to 999\n",
      "Data columns (total 18 columns):\n",
      " #   Column                   Non-Null Count  Dtype         \n",
      "---  ------                   --------------  -----         \n",
      " 0   User_ID                  1000 non-null   int64         \n",
      " 1   Age                      1000 non-null   int64         \n",
      " 2   Gender                   1000 non-null   object        \n",
      " 3   Location                 1000 non-null   object        \n",
      " 4   Subscription_Start_Date  1000 non-null   datetime64[ns]\n",
      " 5   Subscription_Type        1000 non-null   object        \n",
      " 6   Monthly_Payment          1000 non-null   float64       \n",
      " 7   Payment_Method           1000 non-null   object        \n",
      " 8   Monthly_Hours_Watched    1000 non-null   float64       \n",
      " 9   Favorite_Genre           1000 non-null   object        \n",
      " 10  Devices_Used             1000 non-null   object        \n",
      " 11  Average_Session_Length   1000 non-null   float64       \n",
      " 12  Content_ID               1000 non-null   int64         \n",
      " 13  Rating_Given             1000 non-null   int64         \n",
      " 14  Churned                  1000 non-null   int64         \n",
      " 15  Date_of_Churn            246 non-null    datetime64[ns]\n",
      " 16  Reason_for_Churn         246 non-null    object        \n",
      " 17  days_used                246 non-null    float64       \n",
      "dtypes: datetime64[ns](2), float64(4), int64(5), object(7)\n",
      "memory usage: 140.8+ KB\n"
     ]
    }
   ],
   "source": [
    "# Calculate the number of days each customer used the service before churning by subtracting the Subscription_Start_Date' from the 'Date_of_Churn'. \n",
    "# The result is converted to a number of days using the '.dt.days'\n",
    "df['Subscription_Start_Date'] = pd.to_datetime(df['Subscription_Start_Date']) \n",
    "df['Date_of_Churn'] = pd.to_datetime(df['Date_of_Churn']) \n",
    "df['days_used'] = (df['Date_of_Churn'] - df['Subscription_Start_Date']).dt.days\n",
    "\n",
    "# Display the summary information of the DataFrame including the data types of each column \n",
    "df.info()"
   ]
  },
  {
   "cell_type": "code",
   "execution_count": 60,
   "metadata": {},
   "outputs": [
    {
     "data": {
      "text/html": [
       "<div>\n",
       "<style scoped>\n",
       "    .dataframe tbody tr th:only-of-type {\n",
       "        vertical-align: middle;\n",
       "    }\n",
       "\n",
       "    .dataframe tbody tr th {\n",
       "        vertical-align: top;\n",
       "    }\n",
       "\n",
       "    .dataframe thead th {\n",
       "        text-align: right;\n",
       "    }\n",
       "</style>\n",
       "<table border=\"1\" class=\"dataframe\">\n",
       "  <thead>\n",
       "    <tr style=\"text-align: right;\">\n",
       "      <th></th>\n",
       "      <th>User_ID</th>\n",
       "      <th>Age</th>\n",
       "      <th>Subscription_Start_Date</th>\n",
       "      <th>Monthly_Payment</th>\n",
       "      <th>Monthly_Hours_Watched</th>\n",
       "      <th>Average_Session_Length</th>\n",
       "      <th>Content_ID</th>\n",
       "      <th>Rating_Given</th>\n",
       "      <th>Churned</th>\n",
       "      <th>Date_of_Churn</th>\n",
       "      <th>days_used</th>\n",
       "    </tr>\n",
       "  </thead>\n",
       "  <tbody>\n",
       "    <tr>\n",
       "      <th>count</th>\n",
       "      <td>1000.000000</td>\n",
       "      <td>1000.000000</td>\n",
       "      <td>1000</td>\n",
       "      <td>1000.000000</td>\n",
       "      <td>1000.000000</td>\n",
       "      <td>1000.000000</td>\n",
       "      <td>1000.000000</td>\n",
       "      <td>1000.000000</td>\n",
       "      <td>1000.000000</td>\n",
       "      <td>246</td>\n",
       "      <td>246.000000</td>\n",
       "    </tr>\n",
       "    <tr>\n",
       "      <th>mean</th>\n",
       "      <td>500.500000</td>\n",
       "      <td>44.385000</td>\n",
       "      <td>2021-09-18 17:08:01.662466560</td>\n",
       "      <td>14.580000</td>\n",
       "      <td>19.071653</td>\n",
       "      <td>1.893771</td>\n",
       "      <td>1049.201000</td>\n",
       "      <td>3.030000</td>\n",
       "      <td>0.246000</td>\n",
       "      <td>2022-02-28 15:27:17.174715904</td>\n",
       "      <td>195.357724</td>\n",
       "    </tr>\n",
       "    <tr>\n",
       "      <th>min</th>\n",
       "      <td>1.000000</td>\n",
       "      <td>18.000000</td>\n",
       "      <td>2019-05-10 01:53:37.659073</td>\n",
       "      <td>9.990000</td>\n",
       "      <td>0.041574</td>\n",
       "      <td>0.000486</td>\n",
       "      <td>1000.000000</td>\n",
       "      <td>1.000000</td>\n",
       "      <td>0.000000</td>\n",
       "      <td>2019-08-11 01:53:37.658920</td>\n",
       "      <td>30.000000</td>\n",
       "    </tr>\n",
       "    <tr>\n",
       "      <th>25%</th>\n",
       "      <td>250.750000</td>\n",
       "      <td>31.750000</td>\n",
       "      <td>2020-05-15 19:53:37.664891136</td>\n",
       "      <td>9.990000</td>\n",
       "      <td>5.490739</td>\n",
       "      <td>0.548918</td>\n",
       "      <td>1023.000000</td>\n",
       "      <td>2.000000</td>\n",
       "      <td>0.000000</td>\n",
       "      <td>2020-11-15 07:53:37.659917824</td>\n",
       "      <td>115.000000</td>\n",
       "    </tr>\n",
       "    <tr>\n",
       "      <th>50%</th>\n",
       "      <td>500.500000</td>\n",
       "      <td>45.000000</td>\n",
       "      <td>2021-08-21 01:53:37.662536448</td>\n",
       "      <td>14.990000</td>\n",
       "      <td>13.361219</td>\n",
       "      <td>1.271808</td>\n",
       "      <td>1048.000000</td>\n",
       "      <td>3.000000</td>\n",
       "      <td>0.000000</td>\n",
       "      <td>2021-11-20 01:53:37.661230336</td>\n",
       "      <td>201.000000</td>\n",
       "    </tr>\n",
       "    <tr>\n",
       "      <th>75%</th>\n",
       "      <td>750.250000</td>\n",
       "      <td>57.000000</td>\n",
       "      <td>2023-01-09 07:53:37.664328192</td>\n",
       "      <td>14.990000</td>\n",
       "      <td>26.471636</td>\n",
       "      <td>2.623575</td>\n",
       "      <td>1075.000000</td>\n",
       "      <td>4.000000</td>\n",
       "      <td>0.000000</td>\n",
       "      <td>2023-06-05 01:53:37.660055808</td>\n",
       "      <td>276.750000</td>\n",
       "    </tr>\n",
       "    <tr>\n",
       "      <th>max</th>\n",
       "      <td>1000.000000</td>\n",
       "      <td>70.000000</td>\n",
       "      <td>2024-05-06 01:53:37.662112</td>\n",
       "      <td>19.990000</td>\n",
       "      <td>139.170408</td>\n",
       "      <td>11.417557</td>\n",
       "      <td>1099.000000</td>\n",
       "      <td>5.000000</td>\n",
       "      <td>1.000000</td>\n",
       "      <td>2025-02-09 01:53:37.661719</td>\n",
       "      <td>364.000000</td>\n",
       "    </tr>\n",
       "    <tr>\n",
       "      <th>std</th>\n",
       "      <td>288.819436</td>\n",
       "      <td>15.321669</td>\n",
       "      <td>NaN</td>\n",
       "      <td>3.404922</td>\n",
       "      <td>19.279140</td>\n",
       "      <td>1.868852</td>\n",
       "      <td>29.268058</td>\n",
       "      <td>1.422365</td>\n",
       "      <td>0.430894</td>\n",
       "      <td>NaN</td>\n",
       "      <td>95.483742</td>\n",
       "    </tr>\n",
       "  </tbody>\n",
       "</table>\n",
       "</div>"
      ],
      "text/plain": [
       "           User_ID          Age        Subscription_Start_Date  \\\n",
       "count  1000.000000  1000.000000                           1000   \n",
       "mean    500.500000    44.385000  2021-09-18 17:08:01.662466560   \n",
       "min       1.000000    18.000000     2019-05-10 01:53:37.659073   \n",
       "25%     250.750000    31.750000  2020-05-15 19:53:37.664891136   \n",
       "50%     500.500000    45.000000  2021-08-21 01:53:37.662536448   \n",
       "75%     750.250000    57.000000  2023-01-09 07:53:37.664328192   \n",
       "max    1000.000000    70.000000     2024-05-06 01:53:37.662112   \n",
       "std     288.819436    15.321669                            NaN   \n",
       "\n",
       "       Monthly_Payment  Monthly_Hours_Watched  Average_Session_Length  \\\n",
       "count      1000.000000            1000.000000             1000.000000   \n",
       "mean         14.580000              19.071653                1.893771   \n",
       "min           9.990000               0.041574                0.000486   \n",
       "25%           9.990000               5.490739                0.548918   \n",
       "50%          14.990000              13.361219                1.271808   \n",
       "75%          14.990000              26.471636                2.623575   \n",
       "max          19.990000             139.170408               11.417557   \n",
       "std           3.404922              19.279140                1.868852   \n",
       "\n",
       "        Content_ID  Rating_Given      Churned                  Date_of_Churn  \\\n",
       "count  1000.000000   1000.000000  1000.000000                            246   \n",
       "mean   1049.201000      3.030000     0.246000  2022-02-28 15:27:17.174715904   \n",
       "min    1000.000000      1.000000     0.000000     2019-08-11 01:53:37.658920   \n",
       "25%    1023.000000      2.000000     0.000000  2020-11-15 07:53:37.659917824   \n",
       "50%    1048.000000      3.000000     0.000000  2021-11-20 01:53:37.661230336   \n",
       "75%    1075.000000      4.000000     0.000000  2023-06-05 01:53:37.660055808   \n",
       "max    1099.000000      5.000000     1.000000     2025-02-09 01:53:37.661719   \n",
       "std      29.268058      1.422365     0.430894                            NaN   \n",
       "\n",
       "        days_used  \n",
       "count  246.000000  \n",
       "mean   195.357724  \n",
       "min     30.000000  \n",
       "25%    115.000000  \n",
       "50%    201.000000  \n",
       "75%    276.750000  \n",
       "max    364.000000  \n",
       "std     95.483742  "
      ]
     },
     "execution_count": 60,
     "metadata": {},
     "output_type": "execute_result"
    }
   ],
   "source": [
    "# Generate descriptive statistics. This method provides a quick overview of the numerical columns in the DataFrame\n",
    "# count, mean, standard deviation, minimum, maximum, and the quartiles (25%, 50%, and 75%).\n",
    "df.describe()"
   ]
  },
  {
   "cell_type": "markdown",
   "metadata": {},
   "source": [
    "# Analysis of Churn Rate by Subscription Type, Favourite Genre and Age Group"
   ]
  },
  {
   "cell_type": "code",
   "execution_count": 61,
   "metadata": {},
   "outputs": [
    {
     "name": "stdout",
     "output_type": "stream",
     "text": [
      "Churn Rate By Subsciption Type: \n",
      "                    user_count  churn_rate\n",
      "Subscription_Type                        \n",
      "Basic                     276   26.449275\n",
      "Premium                   194   25.257732\n",
      "Standard                  530   23.396226\n",
      "--------------------------------------------------------------\n",
      "Churn Rate By Favourite Genre: \n",
      "                 user_count  churn_rate\n",
      "Favorite_Genre                        \n",
      "Action                 205   23.902439\n",
      "Comedy                 203   24.137931\n",
      "Documentary            188   27.659574\n",
      "Drama                  212   22.169811\n",
      "Sci-Fi                 192   25.520833\n",
      "--------------------------------------------------------------\n",
      "Churn Rate By Age Group: \n",
      "            user_count  churn_rate   days_used\n",
      "Age_Group                                    \n",
      "18-24             130   25.384615  175.848485\n",
      "25-34             176   26.136364  192.260870\n",
      "35-44             188   32.978723  209.258065\n",
      "45-54             214   17.289720  202.162162\n",
      "55-64             164   20.731707  192.441176\n",
      "65-70             105   29.523810  193.161290\n"
     ]
    },
    {
     "name": "stderr",
     "output_type": "stream",
     "text": [
      "/var/folders/kv/6kn50zx13db29c7_5l_npqc40000gn/T/ipykernel_7330/1598855906.py:26: FutureWarning: The default of observed=False is deprecated and will be changed to True in a future version of pandas. Pass observed=False to retain current behavior or observed=True to adopt the future default and silence this warning.\n",
      "  churn_rate_by_age_group = df.groupby('Age_Group').agg(\n"
     ]
    }
   ],
   "source": [
    "############################### Subscription Type ###############################\n",
    "\n",
    "# Calculate the churn rate by subscription type by aggregating the count of users and the churn rate as a percentage.\n",
    "churn_rate_by_subscription = df.groupby('Subscription_Type').agg(\n",
    "    user_count=('User_ID', 'count'),  # Count the number of users in each subscription type\n",
    "    churn_rate=('Churned', lambda x: (x.sum() / x.count()) * 100)  # Calculate churn rate as percentage\n",
    ")\n",
    "\n",
    "\n",
    "############################### Favourite Genre ###############################\n",
    "\n",
    "# Calculate the churn rate by favourite genre by aggregating the count of users and the churn rate as a percentage.\n",
    "churn_rate_by_fav_genre = df.groupby('Favorite_Genre').agg(\n",
    "    user_count=('User_ID', 'count'),  # Count the number of users in each genre\n",
    "    churn_rate=('Churned', lambda x: (x.sum() / x.count()) * 100)  # Calculate churn rate as percentage\n",
    ")\n",
    "\n",
    "############################### Age Group ###############################\n",
    "\n",
    "# Define age bins and labels for categorizing users into age groups.\n",
    "age_bins = [18, 25, 35, 45, 55, 65, 70]\n",
    "age_labels = ['18-24', '25-34', '35-44', '45-54', '55-64', '65-70']\n",
    "df['Age_Group'] = pd.cut(df['Age'], bins=age_bins, labels=age_labels, right=False)\n",
    "\n",
    "# Calculate the churn rate by age group, including the average days used before churn.\n",
    "churn_rate_by_age_group = df.groupby('Age_Group').agg(\n",
    "    user_count=('User_ID', 'count'),  # Count the number of users in each age group\n",
    "    churn_rate=('Churned', lambda x: (x.sum() / x.count()) * 100),  # Calculate churn rate as percentage\n",
    "    days_used = ('days_used', 'mean')\n",
    ")\n",
    "\n",
    "\n",
    "# Display the churn rate by subscription type\n",
    "print(\"Churn Rate By Subsciption Type: \\n\", churn_rate_by_subscription)\n",
    "print(\"--------------------------------------------------------------\")\n",
    "\n",
    "# Display the churn rate by favourite genre\n",
    "print(\"Churn Rate By Favourite Genre: \\n\", churn_rate_by_fav_genre)\n",
    "print(\"--------------------------------------------------------------\")\n",
    "\n",
    "# Display the churn rate by age group\n",
    "print(\"Churn Rate By Age Group: \\n\", churn_rate_by_age_group)"
   ]
  },
  {
   "cell_type": "code",
   "execution_count": 62,
   "metadata": {},
   "outputs": [
    {
     "name": "stdout",
     "output_type": "stream",
     "text": [
      "Count of Unique Content for each Genre:\n"
     ]
    },
    {
     "data": {
      "text/plain": [
       "Favorite_Genre\n",
       "Action         83\n",
       "Comedy         90\n",
       "Documentary    92\n",
       "Drama          87\n",
       "Sci-Fi         81\n",
       "Name: Content_ID, dtype: int64"
      ]
     },
     "execution_count": 62,
     "metadata": {},
     "output_type": "execute_result"
    }
   ],
   "source": [
    "# Group the DataFrame by Genre and calculate the number of unique content IDs for each subscription type\n",
    "print(\"Count of Unique Content for each Genre:\")\n",
    "df.groupby('Favorite_Genre')['Content_ID'].nunique()"
   ]
  },
  {
   "cell_type": "markdown",
   "metadata": {},
   "source": [
    "# Analysis of Monthly Hours Watched\n"
   ]
  },
  {
   "cell_type": "code",
   "execution_count": 63,
   "metadata": {},
   "outputs": [
    {
     "data": {
      "text/plain": [
       "Text(0, 0.5, 'Monthly Hours Watched')"
      ]
     },
     "execution_count": 63,
     "metadata": {},
     "output_type": "execute_result"
    },
    {
     "data": {
      "image/png": "[encoded data removed]",
      "text/plain": [
       "<Figure size 2000x1000 with 1 Axes>"
      ]
     },
     "metadata": {},
     "output_type": "display_data"
    }
   ],
   "source": [
    "# Create a figure with specified dimensions.\n",
    "plt.figure(figsize = (20,10))\n",
    "\n",
    "# Create a subplot in the figure.\n",
    "axes = plt.subplot()\n",
    "\n",
    "# Plot a boxplot to visualize the distribution of 'Monthly_Hours_Watched' split by 'Churned' status.\n",
    "sns.boxplot(x='Churned', y='Monthly_Hours_Watched', data=df, ax=axes)\n",
    "\n",
    "# Set the title and the labels\n",
    "axes.set_title('Monthly Hours Watched by Churn Status')\n",
    "axes.set_xlabel('Churn Status')\n",
    "axes.set_ylabel('Monthly Hours Watched')"
   ]
  },
  {
   "cell_type": "code",
   "execution_count": 64,
   "metadata": {},
   "outputs": [
    {
     "name": "stdout",
     "output_type": "stream",
     "text": [
      "For Churned Users - Count of Users for each Age Group: \n",
      "   Age_Group  Count\n",
      "0     18-24     33\n",
      "1     25-34     46\n",
      "2     35-44     62\n",
      "3     45-54     37\n",
      "4     55-64     34\n",
      "5     65-70     31\n"
     ]
    },
    {
     "name": "stderr",
     "output_type": "stream",
     "text": [
      "/var/folders/kv/6kn50zx13db29c7_5l_npqc40000gn/T/ipykernel_7330/500400182.py:5: FutureWarning: The default of observed=False is deprecated and will be changed to True in a future version of pandas. Pass observed=False to retain current behavior or observed=True to adopt the future default and silence this warning.\n",
      "  age_grp = churn_df.groupby(['Age_Group']).size().reset_index(name='Count')\n"
     ]
    }
   ],
   "source": [
    "# Filter the DataFrame to include only churned users\n",
    "churn_df = df[df['Churned'] == 1]\n",
    "\n",
    "# Group the churned users by 'Age_Group' and count the number of users in each age group\n",
    "age_grp = churn_df.groupby(['Age_Group']).size().reset_index(name='Count')\n",
    "print(\"For Churned Users - Count of Users for each Age Group: \\n\", age_grp)"
   ]
  },
  {
   "cell_type": "code",
   "execution_count": 65,
   "metadata": {},
   "outputs": [
    {
     "name": "stdout",
     "output_type": "stream",
     "text": [
      "For Churned Users - Average Session Length for Each Age Group:\n",
      " Age_Group\n",
      "18-24    2.242366\n",
      "25-34    2.248774\n",
      "35-44    1.586310\n",
      "45-54    2.305275\n",
      "55-64    1.849466\n",
      "65-70    1.382214\n",
      "Name: Average_Session_Length, dtype: float64\n"
     ]
    },
    {
     "name": "stderr",
     "output_type": "stream",
     "text": [
      "/var/folders/kv/6kn50zx13db29c7_5l_npqc40000gn/T/ipykernel_7330/1118971047.py:2: FutureWarning: The default of observed=False is deprecated and will be changed to True in a future version of pandas. Pass observed=False to retain current behavior or observed=True to adopt the future default and silence this warning.\n",
      "  age_dev_used = churn_df.groupby('Age_Group')['Average_Session_Length'].mean()\n"
     ]
    }
   ],
   "source": [
    "# Group the churned users by 'Age_Group' and the average session Length in each age group\n",
    "age_dev_used = churn_df.groupby('Age_Group')['Average_Session_Length'].mean()\n",
    "print(\"For Churned Users - Average Session Length for Each Age Group:\\n\",age_dev_used)"
   ]
  },
  {
   "cell_type": "code",
   "execution_count": 66,
   "metadata": {},
   "outputs": [
    {
     "data": {
      "text/plain": [
       "Text(0, 0.5, 'Avg Session Length')"
      ]
     },
     "execution_count": 66,
     "metadata": {},
     "output_type": "execute_result"
    },
    {
     "data": {
      "image/png": "[encoded data removed]",
      "text/plain": [
       "<Figure size 2000x1000 with 1 Axes>"
      ]
     },
     "metadata": {},
     "output_type": "display_data"
    }
   ],
   "source": [
    "# Create a figure with specified dimensions.\n",
    "plt.figure(figsize = (20,10))\n",
    "\n",
    "# Create a subplot in the figure.\n",
    "axes = plt.subplot()\n",
    "\n",
    "# Plot a boxplot to visualize the distribution of 'Average_Session_Length' split by 'Churned' status.\n",
    "sns.boxplot(x='Churned', y='Average_Session_Length', data=df, ax=axes)\n",
    "\n",
    "# Set the title and the labels\n",
    "axes.set_title('Avg Session Length by Churn Status')\n",
    "axes.set_xlabel('Churn Status')\n",
    "axes.set_ylabel('Avg Session Length')"
   ]
  },
  {
   "cell_type": "code",
   "execution_count": 67,
   "metadata": {},
   "outputs": [
    {
     "name": "stdout",
     "output_type": "stream",
     "text": [
      "For Churned Users - Count of Users for Each Device and Age Group: \n",
      " Devices_Used  Age_Group\n",
      "Mobile        18-24        15\n",
      "              25-34        27\n",
      "              35-44        32\n",
      "              45-54        19\n",
      "              55-64        20\n",
      "              65-70        16\n",
      "PC            18-24         5\n",
      "              25-34         6\n",
      "              35-44         5\n",
      "              45-54         1\n",
      "              55-64         3\n",
      "              65-70         7\n",
      "TV            18-24         8\n",
      "              25-34         4\n",
      "              35-44        16\n",
      "              45-54         7\n",
      "              55-64         4\n",
      "              65-70         4\n",
      "Tablet        18-24         5\n",
      "              25-34         9\n",
      "              35-44         9\n",
      "              45-54        10\n",
      "              55-64         7\n",
      "              65-70         4\n",
      "dtype: int64\n"
     ]
    },
    {
     "name": "stderr",
     "output_type": "stream",
     "text": [
      "/var/folders/kv/6kn50zx13db29c7_5l_npqc40000gn/T/ipykernel_7330/1527478382.py:2: FutureWarning: The default of observed=False is deprecated and will be changed to True in a future version of pandas. Pass observed=False to retain current behavior or observed=True to adopt the future default and silence this warning.\n",
      "  dev_used = churn_df.groupby(['Devices_Used', 'Age_Group']).size()\n"
     ]
    }
   ],
   "source": [
    "# This code counts the number of churned users for each device used\n",
    "dev_used = churn_df.groupby(['Devices_Used', 'Age_Group']).size()\n",
    "print(\"For Churned Users - Count of Users for Each Device and Age Group: \\n\", dev_used)"
   ]
  },
  {
   "cell_type": "code",
   "execution_count": 68,
   "metadata": {},
   "outputs": [
    {
     "name": "stdout",
     "output_type": "stream",
     "text": [
      "For Churned Users - Average Session Length for Each Device Type: \n",
      " Devices_Used\n",
      "Mobile    1.822503\n",
      "PC        2.127004\n",
      "TV        1.611610\n",
      "Tablet    2.392278\n",
      "Name: Average_Session_Length, dtype: float64\n"
     ]
    }
   ],
   "source": [
    "# This code counts the average session length for each device used for churned users\n",
    "avg_dev_used = churn_df.groupby('Devices_Used')['Average_Session_Length'].mean()\n",
    "print(\"For Churned Users - Average Session Length for Each Device Type: \\n\",avg_dev_used)"
   ]
  },
  {
   "cell_type": "markdown",
   "metadata": {},
   "source": [
    "# Analysis of Ratings Given and Content\n"
   ]
  },
  {
   "cell_type": "code",
   "execution_count": 69,
   "metadata": {},
   "outputs": [
    {
     "name": "stdout",
     "output_type": "stream",
     "text": [
      "Average content rating given by all users: 3.03\n",
      "Average content rating given by churned users: 2.5934959349593494\n",
      "Average content rating given by non-churned users: 3.1724137931034484\n"
     ]
    }
   ],
   "source": [
    "# Calculate average content rating given by all users\n",
    "avg_rating = df['Rating_Given'].mean()\n",
    "\n",
    "# Calculate average content rating given by churned users\n",
    "avg_rating_churned = df[df['Churned'] == 1]['Rating_Given'].mean()\n",
    "\n",
    "# Calculate average content rating given by non-churned users\n",
    "avg_rating_non_churned = df[df['Churned']== 0]['Rating_Given'].mean()\n",
    "\n",
    "# Show the calculated values\n",
    "print(\"Average content rating given by all users:\", avg_rating)\n",
    "print(\"Average content rating given by churned users:\", avg_rating_churned)\n",
    "print(\"Average content rating given by non-churned users:\", avg_rating_non_churned)"
   ]
  },
  {
   "cell_type": "code",
   "execution_count": 70,
   "metadata": {},
   "outputs": [
    {
     "name": "stdout",
     "output_type": "stream",
     "text": [
      "Average Rating for Each Genre: \n",
      " Favorite_Genre\n",
      "Action         3.029268\n",
      "Comedy         3.142857\n",
      "Documentary    2.925532\n",
      "Drama          3.084906\n",
      "Sci-Fi         2.953125\n",
      "Name: Rating_Given, dtype: float64\n"
     ]
    }
   ],
   "source": [
    "# Group the DataFrame by 'Favorite_Genre' and calculate the average 'Rating_Given' for each genre\n",
    "rating1 = df.groupby('Favorite_Genre')[\"Rating_Given\"].mean()\n",
    "print(\"Average Rating for Each Genre: \\n\",rating1)"
   ]
  },
  {
   "cell_type": "code",
   "execution_count": 71,
   "metadata": {},
   "outputs": [
    {
     "name": "stdout",
     "output_type": "stream",
     "text": [
      "Churn Rate By Subscritiption Type and Favourite Genre: \n",
      "                                   user_count  churn_rate   ratings\n",
      "Subscription_Type Favorite_Genre                                  \n",
      "Basic             Action                  50   26.000000  2.540000\n",
      "                  Comedy                  44   22.727273  3.272727\n",
      "                  Documentary             54   24.074074  2.907407\n",
      "                  Drama                   67   19.402985  3.238806\n",
      "                  Sci-Fi                  61   39.344262  3.032787\n",
      "Premium           Action                  44   27.272727  2.977273\n",
      "                  Comedy                  37   24.324324  2.891892\n",
      "                  Documentary             33   33.333333  2.606061\n",
      "                  Drama                   41   26.829268  3.292683\n",
      "                  Sci-Fi                  39   15.384615  3.025641\n",
      "Standard          Action                 111   21.621622  3.270270\n",
      "                  Comedy                 122   24.590164  3.172131\n",
      "                  Documentary            101   27.722772  3.039604\n",
      "                  Drama                  104   22.115385  2.903846\n",
      "                  Sci-Fi                  92   20.652174  2.869565\n"
     ]
    }
   ],
   "source": [
    "\n",
    "############################### Subscription Type and Genre ###############################\n",
    "\n",
    "# Calculate the churn rate by subscription type and favourite genre by aggregating the count of users and the churn rate as a percentage.\n",
    "churn_rate_by_genre_type = df.groupby(['Subscription_Type', 'Favorite_Genre']).agg(\n",
    "    user_count=('User_ID', 'count'),  # Count the number of users in each genre\n",
    "    churn_rate=('Churned', lambda x: (x.sum() / x.count()) * 100),  # Calculate churn rate as percentage\n",
    "    ratings = ('Rating_Given', 'mean')\n",
    ")\n",
    "\n",
    "# Display the churn rate by subscription type and favourite genre\n",
    "print(\"Churn Rate By Subscritiption Type and Favourite Genre: \\n\", churn_rate_by_genre_type)"
   ]
  },
  {
   "cell_type": "markdown",
   "metadata": {},
   "source": [
    "# Analysis on Reason for Churn"
   ]
  },
  {
   "cell_type": "code",
   "execution_count": 72,
   "metadata": {},
   "outputs": [
    {
     "name": "stdout",
     "output_type": "stream",
     "text": [
      "[nan 'Found better service' 'Price increase' 'Dissatisfied with content'\n",
      " 'Personal reasons']\n",
      "Reason_for_Churn\n",
      "Price increase               68\n",
      "Found better service         64\n",
      "Personal reasons             62\n",
      "Dissatisfied with content    52\n",
      "Name: count, dtype: int64\n"
     ]
    },
    {
     "name": "stderr",
     "output_type": "stream",
     "text": [
      "/var/folders/kv/6kn50zx13db29c7_5l_npqc40000gn/T/ipykernel_7330/1457667046.py:12: FutureWarning: \n",
      "\n",
      "Passing `palette` without assigning `hue` is deprecated and will be removed in v0.14.0. Assign the `x` variable to `hue` and set `legend=False` for the same effect.\n",
      "\n",
      "  sns.barplot(y=reason_counts.values, x=reason_counts.index, palette='viridis')\n"
     ]
    },
    {
     "data": {
      "image/png": "[encoded data removed]",
      "text/plain": [
       "<Figure size 1000x800 with 1 Axes>"
      ]
     },
     "metadata": {},
     "output_type": "display_data"
    }
   ],
   "source": [
    "# Check for unique entries in the 'Reason_for_Churn' column\n",
    "print(df['Reason_for_Churn'].unique())\n",
    "\n",
    "# Summarize the reasons for churn\n",
    "reason_counts = df['Reason_for_Churn'].value_counts()\n",
    "print(reason_counts)\n",
    "\n",
    "# Set the size of the figure for better visualization\n",
    "plt.figure(figsize=(10, 8))\n",
    "\n",
    "# Create a bar plot to visualize the distribution of reasons for 'Churned' status.\n",
    "sns.barplot(y=reason_counts.values, x=reason_counts.index, palette='viridis')\n",
    "\n",
    "# Set the title and the labels\n",
    "plt.title('Reasons for Churn')\n",
    "plt.xlabel('Number of Churns')\n",
    "plt.ylabel('Reason for Churn')\n",
    "\n",
    "# Adjust layout to prevent clipping of labels\n",
    "plt.tight_layout() "
   ]
  },
  {
   "cell_type": "code",
   "execution_count": 73,
   "metadata": {},
   "outputs": [
    {
     "data": {
      "text/plain": [
       "Subscription_Type\n",
       "Basic        92\n",
       "Premium      86\n",
       "Standard    100\n",
       "Name: Content_ID, dtype: int64"
      ]
     },
     "execution_count": 73,
     "metadata": {},
     "output_type": "execute_result"
    }
   ],
   "source": [
    "# Group the DataFrame by subscription type and calculate the number of unique content IDs for each subscription type\n",
    "df.groupby('Subscription_Type')['Content_ID'].nunique()"
   ]
  },
  {
   "cell_type": "code",
   "execution_count": 74,
   "metadata": {},
   "outputs": [
    {
     "name": "stdout",
     "output_type": "stream",
     "text": [
      "Average Rating Given by Each Age Group for the Genres \n",
      "                           user_count   ratings\n",
      "Age_Group Favorite_Genre                      \n",
      "18-24     Action                  28  3.285714\n",
      "          Comedy                  19  3.368421\n",
      "          Documentary             22  2.772727\n",
      "          Drama                   28  3.071429\n",
      "          Sci-Fi                  33  3.333333\n",
      "25-34     Action                  35  2.628571\n",
      "          Comedy                  38  3.210526\n",
      "          Documentary             36  2.972222\n",
      "          Drama                   40  3.400000\n",
      "          Sci-Fi                  27  2.777778\n",
      "35-44     Action                  36  3.361111\n",
      "          Comedy                  44  2.863636\n",
      "          Documentary             40  2.925000\n",
      "          Drama                   42  3.190476\n",
      "          Sci-Fi                  26  2.846154\n",
      "45-54     Action                  41  2.975610\n",
      "          Comedy                  54  3.462963\n",
      "          Documentary             30  2.566667\n",
      "          Drama                   43  3.000000\n",
      "          Sci-Fi                  46  2.804348\n",
      "55-64     Action                  31  3.129032\n",
      "          Comedy                  26  2.769231\n",
      "          Documentary             35  3.028571\n",
      "          Drama                   38  2.763158\n",
      "          Sci-Fi                  34  2.941176\n",
      "65-70     Action                  29  2.896552\n",
      "          Comedy                  18  2.944444\n",
      "          Documentary             20  3.200000\n",
      "          Drama                   16  2.937500\n",
      "          Sci-Fi                  22  3.136364\n"
     ]
    },
    {
     "name": "stderr",
     "output_type": "stream",
     "text": [
      "/var/folders/kv/6kn50zx13db29c7_5l_npqc40000gn/T/ipykernel_7330/560976737.py:2: FutureWarning: The default of observed=False is deprecated and will be changed to True in a future version of pandas. Pass observed=False to retain current behavior or observed=True to adopt the future default and silence this warning.\n",
      "  fav_ratings = df.groupby(['Age_Group', 'Favorite_Genre']).agg(\n"
     ]
    }
   ],
   "source": [
    "# Calculate the churn rate by age group and favourite genre by aggregating the count of users and the average rating givem.\n",
    "fav_ratings = df.groupby(['Age_Group', 'Favorite_Genre']).agg(\n",
    "    user_count=('User_ID', 'count'),  # Count the number of users in each age group\n",
    "    ratings = ('Rating_Given', 'mean') # Average of ratings givem\n",
    ")\n",
    "\n",
    "print(\"Average Rating Given by Each Age Group for the Genres \\n\",fav_ratings)"
   ]
  },
  {
   "cell_type": "markdown",
   "metadata": {},
   "source": [
    "### Analysis for Reason on Price Increase"
   ]
  },
  {
   "cell_type": "code",
   "execution_count": 75,
   "metadata": {},
   "outputs": [
    {
     "name": "stdout",
     "output_type": "stream",
     "text": [
      "For Price Increase: Count for each Subscription_Type\n",
      "Standard    35\n",
      "Premium     18\n",
      "Basic       15\n",
      "Name: count, dtype: int64\n"
     ]
    }
   ],
   "source": [
    "# Filter the DataFrame to extract rows where the reason for churn is \"Price increase\"\n",
    "price_inc_df = df[df['Reason_for_Churn'] == \"Price increase\"]\n",
    "\n",
    "# Count the occurrences of each subscription type within the subset\n",
    "check_subs_type = price_inc_df['Subscription_Type'].value_counts()\n",
    "print(\"For Price Increase: Count for each\", check_subs_type)\n"
   ]
  },
  {
   "cell_type": "markdown",
   "metadata": {},
   "source": [
    "### Analysis for Reason on Found Better Service"
   ]
  },
  {
   "cell_type": "code",
   "execution_count": 76,
   "metadata": {},
   "outputs": [
    {
     "name": "stdout",
     "output_type": "stream",
     "text": [
      "For Found Better Service: Count for each Subscription_Type\n",
      "Standard    37\n",
      "Basic       16\n",
      "Premium     11\n",
      "Name: count, dtype: int64\n"
     ]
    }
   ],
   "source": [
    "# Filter the DataFrame to extract rows where the reason for churn is \"Found better service\"\n",
    "service_df = df[df['Reason_for_Churn'] == \"Found better service\"]\n",
    "\n",
    "# Count the occurrences of each subscription type within the subset\n",
    "service_content = service_df['Subscription_Type'].value_counts()\n",
    "print(\"For Found Better Service: Count for each\", service_content)"
   ]
  },
  {
   "cell_type": "markdown",
   "metadata": {},
   "source": [
    "### Analysis for Reason on Content Dissatisfaction"
   ]
  },
  {
   "cell_type": "code",
   "execution_count": 77,
   "metadata": {},
   "outputs": [
    {
     "name": "stdout",
     "output_type": "stream",
     "text": [
      "For Content Dissatisfaction: Count for each Favorite_Genre\n",
      "Sci-Fi         13\n",
      "Action         12\n",
      "Drama          11\n",
      "Comedy         11\n",
      "Documentary     5\n",
      "Name: count, dtype: int64\n",
      "-------------------------------------------------------------\n",
      "For Content Dissatisfaction: Unique Number of Content ID for each Favorite_Genre\n",
      "Action         12\n",
      "Comedy         10\n",
      "Documentary     5\n",
      "Drama           9\n",
      "Sci-Fi         13\n",
      "Name: Content_ID, dtype: int64\n",
      "-------------------------------------------------------------\n",
      "For Content Dissatisfaction: Ratings given by each Age_Group\n",
      "18-24    2.500000\n",
      "25-34    2.500000\n",
      "35-44    2.636364\n",
      "45-54    3.363636\n",
      "55-64    2.900000\n",
      "65-70    2.500000\n",
      "Name: Rating_Given, dtype: float64\n"
     ]
    },
    {
     "name": "stderr",
     "output_type": "stream",
     "text": [
      "/var/folders/kv/6kn50zx13db29c7_5l_npqc40000gn/T/ipykernel_7330/4169009056.py:17: FutureWarning: The default of observed=False is deprecated and will be changed to True in a future version of pandas. Pass observed=False to retain current behavior or observed=True to adopt the future default and silence this warning.\n",
      "  rating1 = content_df.groupby('Age_Group')['Rating_Given'].mean().sort_index()\n"
     ]
    }
   ],
   "source": [
    "# Filter the DataFrame to extract rows where the reason for churn is \"Dissatisfied with content\"\n",
    "content_df = df[df['Reason_for_Churn'] == \"Dissatisfied with content\"]\n",
    "\n",
    "# Count the occurrences of each favorite genre within the subset\n",
    "check_content = content_df['Favorite_Genre'].value_counts()\n",
    "print(\"For Content Dissatisfaction: Count for each\", check_content)\n",
    "\n",
    "print(\"-------------------------------------------------------------\")\n",
    "\n",
    "# Group the filtered DataFrame content_df by favorite genre and calculate the number of unique content IDs in each group\n",
    "unique_content = content_df.groupby('Favorite_Genre')['Content_ID'].nunique()\n",
    "print(\"For Content Dissatisfaction: Unique Number of Content ID for each\", unique_content)\n",
    "\n",
    "print(\"-------------------------------------------------------------\")\n",
    "\n",
    "# Group the filtered DataFrame content_df by age group, calculate the mean rating given in each group, and sort the results by age group\n",
    "rating1 = content_df.groupby('Age_Group')['Rating_Given'].mean().sort_index()\n",
    "print(\"For Content Dissatisfaction: Ratings given by each\", rating1)\n"
   ]
  },
  {
   "cell_type": "code",
   "execution_count": 78,
   "metadata": {},
   "outputs": [
    {
     "name": "stdout",
     "output_type": "stream",
     "text": [
      "    Content_ID  0\n",
      "0         1000  2\n",
      "1         1001  2\n",
      "2         1002  1\n",
      "3         1003  1\n",
      "4         1004  2\n",
      "..         ... ..\n",
      "87        1095  3\n",
      "88        1096  5\n",
      "89        1097  3\n",
      "90        1098  5\n",
      "91        1099  4\n",
      "\n",
      "[92 rows x 2 columns]\n",
      "------------------------------------------------------------------\n",
      "    Content_ID  0\n",
      "0         1000  2\n",
      "1         1001  7\n",
      "2         1002  5\n",
      "3         1003  7\n",
      "4         1004  7\n",
      "..         ... ..\n",
      "95        1095  4\n",
      "96        1096  4\n",
      "97        1097  3\n",
      "98        1098  5\n",
      "99        1099  5\n",
      "\n",
      "[100 rows x 2 columns]\n"
     ]
    }
   ],
   "source": [
    "# Filter the DataFrame to extract rows where the subscription type is \"Basic\"\n",
    "bas_df = df[df['Subscription_Type'] == \"Basic\"]\n",
    "\n",
    "# Group the \"Basic\" DataFrame by content ID and count the occurrences of each content ID\n",
    "bas_summ = bas_df.groupby('Content_ID').size().reset_index()\n",
    "\n",
    "# Print the summary of unique content IDs and their counts for the \"Basic\" subscription type\n",
    "print(bas_summ)\n",
    "\n",
    "print(\"------------------------------------------------------------------\")\n",
    "\n",
    "# Filter the DataFrame to extract rows where the subscription type is \"Standard\"\n",
    "std_df = df[df['Subscription_Type'] == \"Standard\"]\n",
    "\n",
    "# Group the \"Standard\" DataFrame by content ID and count the occurrences of each content ID\n",
    "std_summ = std_df.groupby('Content_ID').size().reset_index()\n",
    "\n",
    "# Print the summary of unique content IDs and their counts for the \"Standard\" subscription type\n",
    "print(std_summ)"
   ]
  },
  {
   "cell_type": "code",
   "execution_count": 79,
   "metadata": {},
   "outputs": [],
   "source": [
    "# Merge the summaries of unique content IDs and their counts for the \"Standard\" and \"Basic\" subscription types\n",
    "df_merged1 = pd.merge(std_summ, bas_summ, on='Content_ID', how='left')\n",
    "df_merged2 = pd.merge(bas_summ,std_summ, on='Content_ID', how='left')"
   ]
  },
  {
   "cell_type": "code",
   "execution_count": 80,
   "metadata": {},
   "outputs": [
    {
     "name": "stdout",
     "output_type": "stream",
     "text": [
      "The 8 additional Contents being offered to Standard Users as compared to Basic Users:\n"
     ]
    },
    {
     "data": {
      "text/html": [
       "<div>\n",
       "<style scoped>\n",
       "    .dataframe tbody tr th:only-of-type {\n",
       "        vertical-align: middle;\n",
       "    }\n",
       "\n",
       "    .dataframe tbody tr th {\n",
       "        vertical-align: top;\n",
       "    }\n",
       "\n",
       "    .dataframe thead th {\n",
       "        text-align: right;\n",
       "    }\n",
       "</style>\n",
       "<table border=\"1\" class=\"dataframe\">\n",
       "  <thead>\n",
       "    <tr style=\"text-align: right;\">\n",
       "      <th></th>\n",
       "      <th>Content_ID</th>\n",
       "      <th>0_x</th>\n",
       "      <th>0_y</th>\n",
       "    </tr>\n",
       "  </thead>\n",
       "  <tbody>\n",
       "    <tr>\n",
       "      <th>29</th>\n",
       "      <td>1029</td>\n",
       "      <td>6</td>\n",
       "      <td>NaN</td>\n",
       "    </tr>\n",
       "    <tr>\n",
       "      <th>38</th>\n",
       "      <td>1038</td>\n",
       "      <td>2</td>\n",
       "      <td>NaN</td>\n",
       "    </tr>\n",
       "    <tr>\n",
       "      <th>51</th>\n",
       "      <td>1051</td>\n",
       "      <td>7</td>\n",
       "      <td>NaN</td>\n",
       "    </tr>\n",
       "    <tr>\n",
       "      <th>60</th>\n",
       "      <td>1060</td>\n",
       "      <td>4</td>\n",
       "      <td>NaN</td>\n",
       "    </tr>\n",
       "    <tr>\n",
       "      <th>71</th>\n",
       "      <td>1071</td>\n",
       "      <td>9</td>\n",
       "      <td>NaN</td>\n",
       "    </tr>\n",
       "    <tr>\n",
       "      <th>73</th>\n",
       "      <td>1073</td>\n",
       "      <td>9</td>\n",
       "      <td>NaN</td>\n",
       "    </tr>\n",
       "    <tr>\n",
       "      <th>87</th>\n",
       "      <td>1087</td>\n",
       "      <td>6</td>\n",
       "      <td>NaN</td>\n",
       "    </tr>\n",
       "    <tr>\n",
       "      <th>88</th>\n",
       "      <td>1088</td>\n",
       "      <td>13</td>\n",
       "      <td>NaN</td>\n",
       "    </tr>\n",
       "  </tbody>\n",
       "</table>\n",
       "</div>"
      ],
      "text/plain": [
       "    Content_ID  0_x  0_y\n",
       "29        1029    6  NaN\n",
       "38        1038    2  NaN\n",
       "51        1051    7  NaN\n",
       "60        1060    4  NaN\n",
       "71        1071    9  NaN\n",
       "73        1073    9  NaN\n",
       "87        1087    6  NaN\n",
       "88        1088   13  NaN"
      ]
     },
     "execution_count": 80,
     "metadata": {},
     "output_type": "execute_result"
    }
   ],
   "source": [
    "# Filter the merged DataFrame df_merged1 to extract rows where the count of content IDs for the \"Basic\" subscription type is NaN\n",
    "print(\"The 8 additional Contents being offered to Standard Users as compared to Basic Users:\")\n",
    "df_merged1[df_merged1['0_y'].isna()]"
   ]
  },
  {
   "cell_type": "code",
   "execution_count": 81,
   "metadata": {},
   "outputs": [
    {
     "data": {
      "text/html": [
       "<div>\n",
       "<style scoped>\n",
       "    .dataframe tbody tr th:only-of-type {\n",
       "        vertical-align: middle;\n",
       "    }\n",
       "\n",
       "    .dataframe tbody tr th {\n",
       "        vertical-align: top;\n",
       "    }\n",
       "\n",
       "    .dataframe thead th {\n",
       "        text-align: right;\n",
       "    }\n",
       "</style>\n",
       "<table border=\"1\" class=\"dataframe\">\n",
       "  <thead>\n",
       "    <tr style=\"text-align: right;\">\n",
       "      <th></th>\n",
       "      <th>Content_ID</th>\n",
       "      <th>0_x</th>\n",
       "      <th>0_y</th>\n",
       "    </tr>\n",
       "  </thead>\n",
       "  <tbody>\n",
       "  </tbody>\n",
       "</table>\n",
       "</div>"
      ],
      "text/plain": [
       "Empty DataFrame\n",
       "Columns: [Content_ID, 0_x, 0_y]\n",
       "Index: []"
      ]
     },
     "execution_count": 81,
     "metadata": {},
     "output_type": "execute_result"
    }
   ],
   "source": [
    "# Filter the merged DataFrame df_merged2 to extract rows where the count of content IDs for the \"Standard\" subscription type is NaN\n",
    "df_merged2[df_merged2['0_y'].isna()]"
   ]
  },
  {
   "cell_type": "code",
   "execution_count": 82,
   "metadata": {},
   "outputs": [
    {
     "name": "stdout",
     "output_type": "stream",
     "text": [
      "Total Subscribers: 1000\n",
      "Total Churned Users: 246\n",
      "Average Churn Rate from 2019 to 2024: 24.6\n"
     ]
    }
   ],
   "source": [
    "# Calculate total subscribers and churned users\n",
    "total_subscribers = df.shape[0]\n",
    "total_churned_users = df[df['Date_of_Churn'].notnull()].shape[0]\n",
    "\n",
    "# Calculate average churn rate\n",
    "avg_churn_rate = (total_churned_users / total_subscribers) * 100\n",
    "\n",
    "print(\"Total Subscribers:\", total_subscribers)\n",
    "print(\"Total Churned Users:\", total_churned_users)\n",
    "print(\"Average Churn Rate from 2019 to 2024:\", avg_churn_rate)"
   ]
  }
 ],
 "metadata": {
  "kernelspec": {
   "display_name": "Python 3",
   "language": "python",
   "name": "python3"
  },
  "language_info": {
   "codemirror_mode": {
    "name": "ipython",
    "version": 3
   },
   "file_extension": ".py",
   "mimetype": "text/x-python",
   "name": "python",
   "nbconvert_exporter": "python",
   "pygments_lexer": "ipython3",
   "version": "3.9.6"
  }
 },
 "nbformat": 4,
 "nbformat_minor": 2
}
